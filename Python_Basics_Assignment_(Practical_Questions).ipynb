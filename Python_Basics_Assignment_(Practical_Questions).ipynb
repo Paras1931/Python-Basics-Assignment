{
  "nbformat": 4,
  "nbformat_minor": 0,
  "metadata": {
    "colab": {
      "provenance": []
    },
    "kernelspec": {
      "name": "python3",
      "display_name": "Python 3"
    },
    "language_info": {
      "name": "python"
    }
  },
  "cells": [
    {
      "cell_type": "code",
      "execution_count": 8,
      "metadata": {
        "colab": {
          "base_uri": "https://localhost:8080/"
        },
        "id": "muwDWb9mlvfC",
        "outputId": "3c497753-bda7-4bbc-eec7-119c40b8f818"
      },
      "outputs": [
        {
          "output_type": "stream",
          "name": "stdout",
          "text": [
            "Hello World!\n"
          ]
        }
      ],
      "source": [
        "# Q1- Write a python program to print \"Hello World!\"\n",
        "#Answer (Q1):-\n",
        "a=\"Hello World!\"\n",
        "print (a)"
      ]
    },
    {
      "cell_type": "code",
      "source": [
        "# Q2- Write a Python program that displays your name and age.\n",
        "#Answer (Q2):-\n",
        "name=\"Paras Jain\"\n",
        "age=29\n",
        "print (f\"My name is {name}, and my age is {age}\")"
      ],
      "metadata": {
        "colab": {
          "base_uri": "https://localhost:8080/"
        },
        "id": "r3FUCDjSnAmx",
        "outputId": "b626dcb7-a252-41f9-fb8f-7c625798fff5"
      },
      "execution_count": 29,
      "outputs": [
        {
          "output_type": "stream",
          "name": "stdout",
          "text": [
            "My name is Paras Jain, and my age is 29\n"
          ]
        }
      ]
    },
    {
      "cell_type": "code",
      "source": [
        "# Q3- Write code to print all the pre-defined keywords in python using the keywords libary.\n",
        "# Answer (Q3):-\n",
        "help(\"keywords\")"
      ],
      "metadata": {
        "colab": {
          "base_uri": "https://localhost:8080/"
        },
        "id": "iBu14x_jo3tv",
        "outputId": "18e4e54f-e69f-45ac-d025-2722ea0468c2"
      },
      "execution_count": 34,
      "outputs": [
        {
          "output_type": "stream",
          "name": "stdout",
          "text": [
            "\n",
            "Here is a list of the Python keywords.  Enter any keyword to get more help.\n",
            "\n",
            "False               class               from                or\n",
            "None                continue            global              pass\n",
            "True                def                 if                  raise\n",
            "and                 del                 import              return\n",
            "as                  elif                in                  try\n",
            "assert              else                is                  while\n",
            "async               except              lambda              with\n",
            "await               finally             nonlocal            yield\n",
            "break               for                 not                 \n",
            "\n"
          ]
        }
      ]
    },
    {
      "cell_type": "code",
      "source": [
        "# Q4- Wrirte a progarm that check if a given word is a python keywords.\n",
        "# Answer (Q4)- No Idea about this Question"
      ],
      "metadata": {
        "id": "5MD6wmF1p2YU"
      },
      "execution_count": null,
      "outputs": []
    },
    {
      "cell_type": "code",
      "source": [
        "# Q5- Create a list and tuple in Python, and demonstrate how attempting to change an element works differently for each.\n",
        "# Answer (Q5):-\n",
        "# List is a Mutable nature. It's can change in future and Tuples is a immuatble nature. It's can't be change in the future.\n",
        "list=[5,10,15,20,25,30,35,40,45,50]\n",
        "#print(list) the answer of this is [5, 10, 15, 20, 25, 30, 35, 40, 45, 50] so we want to change the 20 to 22 from the list.\n",
        "list.index(20) # first we find the index number of 20 is 3 then we go on a next step\n",
        "list[3]=22\n",
        "print (list) # now the final answer is here below"
      ],
      "metadata": {
        "colab": {
          "base_uri": "https://localhost:8080/"
        },
        "id": "2mLMPgbtqm2q",
        "outputId": "d2044a37-78b2-4971-b7eb-03f9eb90e502"
      },
      "execution_count": 59,
      "outputs": [
        {
          "output_type": "stream",
          "name": "stdout",
          "text": [
            "[5, 10, 15, 22, 25, 30, 35, 40, 45, 50]\n"
          ]
        }
      ]
    },
    {
      "cell_type": "code",
      "source": [
        "# Q6- Write a function to demonstrate the behaviour of Mutable and immutable arguments.\n",
        "# Answer (Q6):-\n",
        "# Immutable types (like int, float, str, tuple) cannot be changed inside a function. Any change creates a new object.\n",
        "# Mutable types (like list, dict, set) can be changed inside a function — changes affect the original object."
      ],
      "metadata": {
        "id": "uVJ055RNxnYv"
      },
      "execution_count": null,
      "outputs": []
    },
    {
      "cell_type": "code",
      "source": [
        "# Q7- Write a program that performs basic arithmetic operations on two user-input number.\n",
        "# Answer (Q7):- a simple Python program that performs basic arithmetic operations (addition, subtraction, multiplication, and division) on two user-input numbers\n",
        "number_1=int(input(\"Enter the first number: \"))\n",
        "number_2=int(input(\"Enter the second number: \"))\n",
        "print (f\"{number_1}+{number_2}={number_1 + number_2}\")\n",
        "print (f\"{number_1}-{number_2}={number_1 - number_2}\")"
      ],
      "metadata": {
        "colab": {
          "base_uri": "https://localhost:8080/"
        },
        "id": "wLrokIngyyBq",
        "outputId": "9f44f0b4-f28b-4e6b-d2c9-ec2e45852e83"
      },
      "execution_count": 68,
      "outputs": [
        {
          "output_type": "stream",
          "name": "stdout",
          "text": [
            "Enter the first number: 10\n",
            "Enter the second number: 20\n",
            "10+20=30\n",
            "10-20=-10\n"
          ]
        }
      ]
    },
    {
      "cell_type": "code",
      "source": [
        "# Q8- Write a program to demonstrate the use of logical operator.\n",
        "# Answer (Q8):-Logical operators are used to combine multiple conditions and return a Boolean result: True or False. They are commonly used in if statements, loops, and decision-making logic.\n",
        "# input from user\n",
        "age = int(input(\"Enter your age: \"))\n",
        "has_id = input(\"Do you have a valid ID? (yes/no): \").lower()\n",
        "\n",
        "# Use logical AND operator\n",
        "\n",
        "if age >= 18 and has_id == \"yes\":\n",
        "    print(\"You are eligible to vote.\")\n",
        "else:\n",
        "    print(\"You are not eligible to vote.\")\n",
        "\n",
        "# Use logical OR operator\n",
        "if age >= 18 or has_id == \"yes\":\n",
        "    print(\"You meet at least one condition.\")\n",
        "\n",
        "# Use logical NOT operator\n",
        "if not (has_id == \"yes\"):\n",
        "    print(\"Warning: You do not have a valid ID.\")"
      ],
      "metadata": {
        "colab": {
          "base_uri": "https://localhost:8080/"
        },
        "id": "mMcJZOPd1c6o",
        "outputId": "a226bc09-1cf7-43b8-868f-7b665e1d9de5"
      },
      "execution_count": 84,
      "outputs": [
        {
          "output_type": "stream",
          "name": "stdout",
          "text": [
            "Enter your age: 18\n",
            "Do you have a valid ID? (yes/no): no\n",
            "You are not eligible to vote.\n",
            "You meet at least one condition.\n",
            "Warning: You do not have a valid ID.\n"
          ]
        }
      ]
    },
    {
      "cell_type": "code",
      "source": [
        "# Q9- Write a python program to convert user input from string to integer, float and boolen types.\n",
        "# Answer (Q9):-\n",
        "string_input = input(\"Enter a string: \")\n",
        "integer_output = int(string_input)\n",
        "float_output = float(string_input)\n",
        "boolean_output = bool(string_input)"
      ],
      "metadata": {
        "colab": {
          "base_uri": "https://localhost:8080/"
        },
        "id": "--IqnI_f42JP",
        "outputId": "9d798062-e180-4428-eacf-42e784029f89"
      },
      "execution_count": 86,
      "outputs": [
        {
          "name": "stdout",
          "output_type": "stream",
          "text": [
            "Enter a string: 10\n"
          ]
        }
      ]
    },
    {
      "cell_type": "code",
      "source": [
        "# Q10- Write code to demonstrate type casting with list elements.\n",
        "# Answer (Q10)-\n",
        "p = ('1,2,3,4') # all are the string elements\n",
        "type (p)"
      ],
      "metadata": {
        "colab": {
          "base_uri": "https://localhost:8080/"
        },
        "id": "BeO5JjZw5qPi",
        "outputId": "a9b8c570-1df2-46b1-89fa-f7c14219b786"
      },
      "execution_count": 158,
      "outputs": [
        {
          "output_type": "execute_result",
          "data": {
            "text/plain": [
              "str"
            ]
          },
          "metadata": {},
          "execution_count": 158
        }
      ]
    },
    {
      "cell_type": "code",
      "source": [
        "# Q11- Write a program that checks if a number is positive, negitive, or zero.\n",
        "# Answer (Q11):-\n",
        "\n",
        "number_3= -2\n",
        "\n",
        "if number_3 <0:\n",
        "  print (\"The number is negitive\")\n",
        "\n",
        "elif number_3 ==0:\n",
        "  print (\"The number if Zero\")\n",
        "\n",
        "else:\n",
        "  print (\"The number is positive\")"
      ],
      "metadata": {
        "colab": {
          "base_uri": "https://localhost:8080/"
        },
        "id": "OmO-HDiV-6QF",
        "outputId": "dcbee9a7-a7ac-42f7-a781-9c0bc0ce627c"
      },
      "execution_count": 166,
      "outputs": [
        {
          "output_type": "stream",
          "name": "stdout",
          "text": [
            "The number is negitive\n"
          ]
        }
      ]
    },
    {
      "cell_type": "code",
      "source": [
        "# Q12- Write a for loop to print numbers from 1 to 10.\n",
        "# Answer-\n",
        "for i in range (1,11):\n",
        "  print (i)"
      ],
      "metadata": {
        "colab": {
          "base_uri": "https://localhost:8080/"
        },
        "id": "90OH8bANAn3Q",
        "outputId": "65f92e4d-00fe-40ea-afaf-f9d8d5559b67"
      },
      "execution_count": 167,
      "outputs": [
        {
          "output_type": "stream",
          "name": "stdout",
          "text": [
            "1\n",
            "2\n",
            "3\n",
            "4\n",
            "5\n",
            "6\n",
            "7\n",
            "8\n",
            "9\n",
            "10\n"
          ]
        }
      ]
    },
    {
      "cell_type": "code",
      "source": [
        "# Q13- Write a python program to find a sum of all even numbers between 1 and 50.\n",
        "# Answer (Q13):-\n",
        "\n",
        "number4=0\n",
        "\n",
        "for i in range (1,50):\n",
        "  if i % 2 == 0:\n",
        "    number4 += i\n",
        "print (number4)\n"
      ],
      "metadata": {
        "colab": {
          "base_uri": "https://localhost:8080/"
        },
        "id": "OXusWCysBDnM",
        "outputId": "bf82474c-c499-4397-ec5f-4477c88151ba"
      },
      "execution_count": 174,
      "outputs": [
        {
          "output_type": "stream",
          "name": "stdout",
          "text": [
            "600\n"
          ]
        }
      ]
    },
    {
      "cell_type": "code",
      "source": [
        "# Q14- Write a program to reserve a string using a while loop.\n",
        "# Answer (Q14):-\n",
        "\n",
        "string_reverse = \"Paras Jain\"\n",
        "i in range (-len(string_reverse),-1,1)\n",
        "print (string_reverse)\n"
      ],
      "metadata": {
        "colab": {
          "base_uri": "https://localhost:8080/"
        },
        "id": "rij0SesHCaVf",
        "outputId": "824684b0-888b-491e-983b-a9fbb3409b2c"
      },
      "execution_count": 178,
      "outputs": [
        {
          "output_type": "stream",
          "name": "stdout",
          "text": [
            "Paras Jain\n"
          ]
        }
      ]
    },
    {
      "cell_type": "code",
      "source": [
        "# Q15- Write a python progarm to calculate the factorial of a number provided by the users using a while loop.\n",
        "# Answer (Q15)- No Idea about this Question"
      ],
      "metadata": {
        "id": "guG5XdmQD7cJ"
      },
      "execution_count": null,
      "outputs": []
    }
  ]
}